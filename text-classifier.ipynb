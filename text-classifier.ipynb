{
 "metadata": {
  "language_info": {
   "codemirror_mode": {
    "name": "ipython",
    "version": 3
   },
   "file_extension": ".py",
   "mimetype": "text/x-python",
   "name": "python",
   "nbconvert_exporter": "python",
   "pygments_lexer": "ipython3",
   "version": "3.9.0-final"
  },
  "orig_nbformat": 2,
  "kernelspec": {
   "name": "python3",
   "display_name": "Python 3",
   "language": "python"
  }
 },
 "nbformat": 4,
 "nbformat_minor": 2,
 "cells": [
  {
   "cell_type": "code",
   "execution_count": 60,
   "metadata": {},
   "outputs": [],
   "source": [
    "import pandas as pd"
   ]
  },
  {
   "cell_type": "code",
   "execution_count": 61,
   "metadata": {},
   "outputs": [
    {
     "output_type": "stream",
     "name": "stdout",
     "text": [
      "sentence    Crust is not good.\nlabel                        0\nsource                    yelp\nName: 1, dtype: object\n"
     ]
    }
   ],
   "source": [
    "file_path={'yelp':'assets/sentiment labelled sentences/yelp_labelled.txt',\n",
    "'amazon':'assets/sentiment labelled sentences/amazon_cells_labelled.txt',\n",
    "'imdb':'assets/sentiment labelled sentences/imdb_labelled.txt'\n",
    "}\n",
    "df_list=[]\n",
    "for source,filepath in file_path.items():\n",
    "    df=pd.read_csv(filepath,names=['sentence','label'],sep='\\t')\n",
    "    df['source']=source\n",
    "    df_list.append(df)\n",
    "\n",
    "df=pd.concat(df_list)\n",
    "print(df.iloc[1])"
   ]
  },
  {
   "cell_type": "code",
   "execution_count": 62,
   "metadata": {},
   "outputs": [],
   "source": [
    "sentences=['hadeel likes chocolate','hadeel hates ice cream']"
   ]
  },
  {
   "cell_type": "code",
   "execution_count": 63,
   "metadata": {},
   "outputs": [],
   "source": [
    "from sklearn.feature_extraction.text import CountVectorizer"
   ]
  },
  {
   "cell_type": "code",
   "execution_count": 64,
   "metadata": {},
   "outputs": [
    {
     "output_type": "execute_result",
     "data": {
      "text/plain": [
       "{'hadeel': 2, 'likes': 5, 'chocolate': 0, 'hates': 3, 'ice': 4, 'cream': 1}"
      ]
     },
     "metadata": {},
     "execution_count": 64
    }
   ],
   "source": [
    "vectorizer=CountVectorizer(min_df=0,lowercase=False)\n",
    "vectorizer.fit(sentences)\n",
    "vectorizer.vocabulary_"
   ]
  },
  {
   "cell_type": "code",
   "execution_count": 65,
   "metadata": {},
   "outputs": [
    {
     "output_type": "execute_result",
     "data": {
      "text/plain": [
       "array([[1, 0, 1, 0, 0, 1],\n",
       "       [0, 1, 1, 1, 1, 0]])"
      ]
     },
     "metadata": {},
     "execution_count": 65
    }
   ],
   "source": [
    "vectorizer.transform(sentences).toarray()"
   ]
  },
  {
   "cell_type": "code",
   "execution_count": 66,
   "metadata": {},
   "outputs": [],
   "source": [
    "from sklearn.model_selection import train_test_split"
   ]
  },
  {
   "cell_type": "code",
   "execution_count": 67,
   "metadata": {},
   "outputs": [],
   "source": [
    "df_yelp=df[df['source']=='yelp']\n",
    "sentences=df_yelp['sentence'].values\n",
    "y=df_yelp['label'].values"
   ]
  },
  {
   "cell_type": "code",
   "execution_count": 68,
   "metadata": {},
   "outputs": [],
   "source": [
    "sentences_train,sentences_test,y_train,y_test=train_test_split(sentences,y,test_size=0.25,random_state=1000)"
   ]
  },
  {
   "cell_type": "code",
   "execution_count": 69,
   "metadata": {},
   "outputs": [
    {
     "output_type": "execute_result",
     "data": {
      "text/plain": [
       "<750x1714 sparse matrix of type '<class 'numpy.int64'>'\n",
       "\twith 7368 stored elements in Compressed Sparse Row format>"
      ]
     },
     "metadata": {},
     "execution_count": 69
    }
   ],
   "source": [
    "vectorizer=CountVectorizer()\n",
    "vectorizer.fit(sentences_train)\n",
    "x_train=vectorizer.transform(sentences_train)\n",
    "x_test=vectorizer.transform(sentences_test)\n",
    "x_train"
   ]
  },
  {
   "cell_type": "code",
   "execution_count": 70,
   "metadata": {},
   "outputs": [],
   "source": [
    "from sklearn.linear_model import LogisticRegression"
   ]
  },
  {
   "cell_type": "code",
   "execution_count": 71,
   "metadata": {},
   "outputs": [
    {
     "output_type": "stream",
     "name": "stdout",
     "text": [
      "0.796\n"
     ]
    }
   ],
   "source": [
    "classifier=LogisticRegression()\n",
    "classifier.fit(x_train,y_train)\n",
    "score=classifier.score(x_test,y_test)\n",
    "print(score)"
   ]
  },
  {
   "cell_type": "code",
   "execution_count": 72,
   "metadata": {},
   "outputs": [
    {
     "output_type": "stream",
     "name": "stdout",
     "text": [
      "yelp 0.988\n",
      "amazon 0.98\n",
      "imdb 1.0\n"
     ]
    }
   ],
   "source": [
    "for source in df['source'].unique():\n",
    "    df_source=df[df['source']==source]\n",
    "    sentences=df_source['sentence'].values\n",
    "    y=df_source['label'].values\n",
    "    sentences_train,sentences_test,y_train,y_test=train_test_split(sentences,y,test_size=0.25, random_state=1000)\n",
    "    vectorizer=CountVectorizer()\n",
    "    vectorizer.fit(sentences_train)\n",
    "    x_train=vectorizer.transform(sentences_train)\n",
    "\n",
    "    x_test=vectorizer.transform(sentences_test)\n",
    "\n",
    "    classifier=LogisticRegression()\n",
    "    classifier.fit(x_test,y_test)\n",
    "    score=classifier.score(x_test,y_test)\n",
    "    print(source, score)"
   ]
  },
  {
   "cell_type": "code",
   "execution_count": 83,
   "metadata": {},
   "outputs": [
    {
     "output_type": "stream",
     "name": "stdout",
     "text": [
      "[0 1]\n"
     ]
    }
   ],
   "source": [
    "sentence2=vectorizer.transform(['i hate code when not work','i love it when work'])\n",
    "predict=classifier.predict(sentence2)\n",
    "print(predict)"
   ]
  },
  {
   "cell_type": "code",
   "execution_count": 82,
   "metadata": {},
   "outputs": [
    {
     "output_type": "stream",
     "name": "stdout",
     "text": [
      "[1 1]\n"
     ]
    }
   ],
   "source": [
    "sentence3=vectorizer.transform(['i love code it when work','i love code when  work'])\n",
    "predict=classifier.predict(sentence3)\n",
    "print(predict)"
   ]
  },
  {
   "cell_type": "code",
   "execution_count": null,
   "metadata": {},
   "outputs": [],
   "source": []
  }
 ]
}